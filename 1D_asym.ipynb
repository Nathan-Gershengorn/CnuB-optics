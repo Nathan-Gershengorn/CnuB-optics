{
 "cells": [
  {
   "cell_type": "code",
   "execution_count": 1,
   "metadata": {},
   "outputs": [],
   "source": [
    "import numpy as np\n",
    "from scipy import sparse\n",
    "from scipy.sparse.linalg import eigsh\n",
    "\n",
    "import matplotlib.pyplot as plt\n",
    "from matplotlib import animation"
   ]
  },
  {
   "cell_type": "code",
   "execution_count": null,
   "metadata": {},
   "outputs": [],
   "source": [
    "mass = 511e3\n",
    "hbar = 1"
   ]
  },
  {
   "cell_type": "code",
   "execution_count": null,
   "metadata": {},
   "outputs": [],
   "source": [
    "def kinetic(N):\n",
    "    diags = np.full(N, 2)\n",
    "\n",
    "    H = np.diag(diags)\n",
    "\n",
    "    for i in range(0, H.shape[0]):\n",
    "        if i != 0:\n",
    "            H[i,i-1] = -1\n",
    "        if i != H.shape[0]-1:\n",
    "            H[i,i+1] = -1\n",
    "    \n",
    "    return H\n",
    "\n",
    "def potential(N):\n",
    "        H = np.zeros((N,N))\n",
    "        for i in range(0, H.shape[0]):\n",
    "            if i < int(N/4) or i > int(3*N/4):\n",
    "                H[i,i] = .1\n",
    "            else:\n",
    "                H[i,i] = 0\n",
    "\n",
    "        return H\n",
    "\n",
    "def Hamiltonian(m, K, V):\n",
    "     H = (K * (-hbar**2 / (2*m)) + V)\n",
    "     return H "
   ]
  },
  {
   "cell_type": "code",
   "execution_count": null,
   "metadata": {},
   "outputs": [],
   "source": [
    "def solve_Hamiltonian(n, N):\n",
    "    E, psi = np.linalg.eigh(Hamiltonian(1, N))\n",
    "    psi = psi.T\n",
    "    \n",
    "    x_values = np.linspace(0, N, N)\n",
    "    \n",
    "    plt.plot(x_values, psi[n-1]**2, label=f'Numerical: n = {n}') # graphing numerically\n",
    "\n",
    "    plt.xlabel('X-axis')\n",
    "    plt.ylabel('Y-axis')\n",
    "    plt.title(f'Harmonic {n} Probability Distribution')\n",
    "\n",
    "    # Display legend\n",
    "    plt.legend()\n",
    "    # Show the plot\n",
    "    plt.savefig('plots/1D_Potential_Wall.png')\n",
    "    \n",
    "    plt.show()"
   ]
  },
  {
   "cell_type": "code",
   "execution_count": null,
   "metadata": {},
   "outputs": [],
   "source": []
  }
 ],
 "metadata": {
  "kernelspec": {
   "display_name": "base",
   "language": "python",
   "name": "python3"
  },
  "language_info": {
   "codemirror_mode": {
    "name": "ipython",
    "version": 3
   },
   "file_extension": ".py",
   "mimetype": "text/x-python",
   "name": "python",
   "nbconvert_exporter": "python",
   "pygments_lexer": "ipython3",
   "version": "2022.10.0"
  }
 },
 "nbformat": 4,
 "nbformat_minor": 2
}
